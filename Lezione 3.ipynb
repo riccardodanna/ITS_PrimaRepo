{
 "cells": [
  {
   "cell_type": "code",
   "execution_count": 64,
   "metadata": {},
   "outputs": [
    {
     "name": "stdout",
     "output_type": "stream",
     "text": [
      "La mia condizione è vera\n"
     ]
    }
   ],
   "source": [
    "mia_condizione = True\n",
    "if mia_condizione:\n",
    "    print(\"La mia condizione è vera\")"
   ]
  },
  {
   "cell_type": "code",
   "execution_count": 65,
   "metadata": {},
   "outputs": [
    {
     "name": "stdout",
     "output_type": "stream",
     "text": [
      "La mia condizione è vera\n"
     ]
    }
   ],
   "source": [
    "mia_condizione = \"vera\"\n",
    "# una stringa vuota è considerata falsa\n",
    "if mia_condizione:\n",
    "    print(\"La mia condizione è vera\")"
   ]
  },
  {
   "cell_type": "code",
   "execution_count": 66,
   "metadata": {},
   "outputs": [
    {
     "name": "stdout",
     "output_type": "stream",
     "text": [
      "La mia condizione è vera\n"
     ]
    }
   ],
   "source": [
    "mia_condizione = 0.001\n",
    "# int e float sono equivalenti a True solo quando sono diversi da 0\n",
    "if mia_condizione:\n",
    "    print(\"La mia condizione è vera\")"
   ]
  },
  {
   "cell_type": "code",
   "execution_count": 67,
   "metadata": {},
   "outputs": [
    {
     "name": "stdout",
     "output_type": "stream",
     "text": [
      "1\n",
      "2\n",
      "3\n",
      "4\n"
     ]
    }
   ],
   "source": [
    "lista = [1,2,3,4,5,6,7,8,9]\n",
    "\n",
    "count = 0\n",
    "for elemento in lista:\n",
    "    if(count >= 4):\n",
    "        break\n",
    "\n",
    "    count += 1\n",
    "    print(elemento)"
   ]
  },
  {
   "cell_type": "code",
   "execution_count": 68,
   "metadata": {},
   "outputs": [
    {
     "name": "stdout",
     "output_type": "stream",
     "text": [
      "1 1 1\n",
      "2 2 2\n",
      "3 3 3\n",
      "4 4 4\n",
      "5 5 5\n",
      "6 6 6\n"
     ]
    },
    {
     "ename": "IndexError",
     "evalue": "list index out of range",
     "output_type": "error",
     "traceback": [
      "\u001b[1;31m---------------------------------------------------------------------------\u001b[0m",
      "\u001b[1;31mIndexError\u001b[0m                                Traceback (most recent call last)",
      "\u001b[1;32mUntitled-1.ipynb Cell 5\u001b[0m line \u001b[0;36m7\n\u001b[0;32m      <a href='vscode-notebook-cell:Untitled-1.ipynb?jupyter-notebook#W5sdW50aXRsZWQ%3D?line=3'>4</a>\u001b[0m lista3 \u001b[39m=\u001b[39m [\u001b[39m1\u001b[39m,\u001b[39m2\u001b[39m,\u001b[39m3\u001b[39m,\u001b[39m4\u001b[39m,\u001b[39m5\u001b[39m,\u001b[39m6\u001b[39m]\n\u001b[0;32m      <a href='vscode-notebook-cell:Untitled-1.ipynb?jupyter-notebook#W5sdW50aXRsZWQ%3D?line=5'>6</a>\u001b[0m \u001b[39mfor\u001b[39;00m i \u001b[39min\u001b[39;00m \u001b[39mrange\u001b[39m(\u001b[39mlen\u001b[39m(lista)):\n\u001b[1;32m----> <a href='vscode-notebook-cell:Untitled-1.ipynb?jupyter-notebook#W5sdW50aXRsZWQ%3D?line=6'>7</a>\u001b[0m     \u001b[39mprint\u001b[39m(lista[i], lista2[i], lista3[i])\n",
      "\u001b[1;31mIndexError\u001b[0m: list index out of range"
     ]
    }
   ],
   "source": [
    "# liste di lunghezza divbersa\n",
    "lista = [1,2,3,4,5,6,7,8,9]\n",
    "lista2 = [1,2,3,4,5,6,7,8,9,10]\n",
    "lista3 = [1,2,3,4,5,6]\n",
    "\n",
    "for i in range(len(lista)):\n",
    "    print(lista[i], lista2[i], lista3[i])"
   ]
  },
  {
   "cell_type": "code",
   "execution_count": null,
   "metadata": {},
   "outputs": [
    {
     "name": "stdout",
     "output_type": "stream",
     "text": [
      "1 1 1\n",
      "2 2 2\n",
      "3 3 3\n",
      "4 4 4\n",
      "5 5 5\n",
      "6 6 6\n"
     ]
    }
   ],
   "source": [
    "# versione corretta con zip()\n",
    "for elemento, elemento1, elemento2 in zip(lista, lista2, lista3):\n",
    "    print(elemento, elemento1, elemento2)"
   ]
  },
  {
   "cell_type": "code",
   "execution_count": null,
   "metadata": {},
   "outputs": [
    {
     "name": "stdout",
     "output_type": "stream",
     "text": [
      "1\n",
      "1\n",
      "1\n",
      "2\n",
      "2\n",
      "2\n",
      "3\n",
      "3\n",
      "3\n",
      "4\n",
      "4\n",
      "4\n",
      "5\n",
      "5\n",
      "5\n",
      "6\n",
      "6\n",
      "6\n",
      "7\n",
      "7\n",
      "8\n",
      "8\n",
      "9\n",
      "9\n",
      "10\n"
     ]
    }
   ],
   "source": [
    "lunghezza_massima = max(len(lista), len(lista2), len(lista3))\n",
    "for i in range(lunghezza_massima):\n",
    "    if i < len(lista):\n",
    "        print(lista[i])\n",
    "\n",
    "    if i < len(lista2):\n",
    "        print(lista2[i])\n",
    "\n",
    "    if i < len(lista3):\n",
    "        print(lista3[i])"
   ]
  },
  {
   "cell_type": "code",
   "execution_count": null,
   "metadata": {},
   "outputs": [
    {
     "name": "stdout",
     "output_type": "stream",
     "text": [
      "10\n",
      "9\n",
      "9\n",
      "8\n",
      "8\n",
      "7\n",
      "7\n",
      "6\n",
      "6\n",
      "6\n",
      "5\n",
      "5\n",
      "5\n",
      "4\n",
      "4\n",
      "4\n",
      "3\n",
      "3\n",
      "3\n",
      "2\n",
      "2\n",
      "2\n"
     ]
    }
   ],
   "source": [
    "lunghezza_massima = max(len(lista), len(lista2), len(lista3))\n",
    "for i in range(lunghezza_massima, 0, -1):\n",
    "    if i < len(lista):\n",
    "        print(lista[i])\n",
    "\n",
    "    if i < len(lista2):\n",
    "        print(lista2[i])\n",
    "\n",
    "    if i < len(lista3):\n",
    "        print(lista3[i])"
   ]
  },
  {
   "cell_type": "markdown",
   "metadata": {},
   "source": [
    "# Librerie\n",
    "\n",
    "### uso la libreria random\n",
    "\n",
    "\n",
    "import random\n",
    "\n",
    "from random import randit"
   ]
  },
  {
   "cell_type": "code",
   "execution_count": null,
   "metadata": {},
   "outputs": [],
   "source": [
    "from random import randint"
   ]
  },
  {
   "cell_type": "code",
   "execution_count": null,
   "metadata": {},
   "outputs": [
    {
     "name": "stdout",
     "output_type": "stream",
     "text": [
      "2\n"
     ]
    }
   ],
   "source": [
    "print(randint(0, 10))"
   ]
  },
  {
   "cell_type": "code",
   "execution_count": null,
   "metadata": {},
   "outputs": [],
   "source": [
    "# dizionari\n",
    "var_dict = {\n",
    "    \"chiave\": \"valore\",\n",
    "    \"int\": 1,\n",
    "    \"float\": 0.5\n",
    "    }\n",
    "var_dict[\"int\"] = 2\n",
    "var_dict[\"int\"]\n",
    "\n",
    "var_dict[\"nuovo\"] = \"nuovo valore\"\n",
    "\n",
    "var_dict[\"nuovo\"]\n",
    "\n",
    "var_dict_copy = var_dict.copy()\n",
    "var_dict_duplicato = var_dict\n",
    "liste_di_dizionari = [var_dict, var_dict_copy, var_dict_duplicato]\n"
   ]
  },
  {
   "cell_type": "code",
   "execution_count": null,
   "metadata": {},
   "outputs": [
    {
     "ename": "KeyError",
     "evalue": "'nuovo'",
     "output_type": "error",
     "traceback": [
      "\u001b[1;31m---------------------------------------------------------------------------\u001b[0m",
      "\u001b[1;31mKeyError\u001b[0m                                  Traceback (most recent call last)",
      "\u001b[1;32mUntitled-1.ipynb Cell 13\u001b[0m line \u001b[0;36m2\n\u001b[0;32m      <a href='vscode-notebook-cell:Untitled-1.ipynb?jupyter-notebook#X21sdW50aXRsZWQ%3D?line=0'>1</a>\u001b[0m \u001b[39mfor\u001b[39;00m \u001b[39mdict\u001b[39m \u001b[39min\u001b[39;00m liste_di_dizionari:\n\u001b[1;32m----> <a href='vscode-notebook-cell:Untitled-1.ipynb?jupyter-notebook#X21sdW50aXRsZWQ%3D?line=1'>2</a>\u001b[0m     \u001b[39mprint\u001b[39m(\u001b[39mdict\u001b[39;49m[\u001b[39m\"\u001b[39;49m\u001b[39mnuovo\u001b[39;49m\u001b[39m\"\u001b[39;49m])\n",
      "\u001b[1;31mKeyError\u001b[0m: 'nuovo'"
     ]
    }
   ],
   "source": [
    "for dict in liste_di_dizionari:\n",
    "    print(dict[\"nuovo\"])"
   ]
  },
  {
   "cell_type": "code",
   "execution_count": null,
   "metadata": {},
   "outputs": [
    {
     "name": "stdout",
     "output_type": "stream",
     "text": [
      "{}\n",
      "[{}, {'chiave': 'valore', 'int': 2, 'float': 0.5, 'nuovo': 'nuovo valore'}, {}]\n"
     ]
    }
   ],
   "source": [
    "# svuoto solo il dizionario originale\n",
    "var_dict.clear()\n",
    "print(var_dict)\n",
    "print(liste_di_dizionari)"
   ]
  },
  {
   "cell_type": "markdown",
   "metadata": {},
   "source": [
    "Creare un gioco che chiede all'utente il suo nome\n",
    "- dovrà indovinare un numero casuale\n",
    "- dopo 5 tentativi se non è stato indovinato il numero il giocatore perde\n",
    "\n",
    "Il nome, il numero da indovinare e il risultato (vinto\\perso) saranno salvati in memoria (liste\\dict)"
   ]
  },
  {
   "cell_type": "markdown",
   "metadata": {},
   "source": [
    "# FUNZIONI"
   ]
  },
  {
   "cell_type": "code",
   "execution_count": 59,
   "metadata": {},
   "outputs": [
    {
     "name": "stdout",
     "output_type": "stream",
     "text": [
      "ciao\n"
     ]
    }
   ],
   "source": [
    "def mia_funzione():\n",
    "    print(\"ciao\")\n",
    "\n",
    "mia_funzione()"
   ]
  },
  {
   "cell_type": "code",
   "execution_count": null,
   "metadata": {},
   "outputs": [],
   "source": [
    "# sintassi:\n",
    "# def nome_funzione(parametri):"
   ]
  },
  {
   "cell_type": "code",
   "execution_count": 60,
   "metadata": {},
   "outputs": [],
   "source": [
    "def somma(a, b):\n",
    "    c = a + b\n",
    "    return c"
   ]
  },
  {
   "cell_type": "code",
   "execution_count": 61,
   "metadata": {},
   "outputs": [],
   "source": [
    "def is_even(number):\n",
    "    return number % 2 == 0"
   ]
  },
  {
   "cell_type": "code",
   "execution_count": 62,
   "metadata": {},
   "outputs": [],
   "source": [
    "def somma_e_pari(a, b):\n",
    "    risultato = somma(a, b)\n",
    "    return is_even(risultato)"
   ]
  },
  {
   "cell_type": "code",
   "execution_count": 63,
   "metadata": {},
   "outputs": [
    {
     "name": "stdout",
     "output_type": "stream",
     "text": [
      "3 3 6 True\n",
      "1 4 5 False\n",
      "5 3 8 True\n",
      "9 7 16 True\n",
      "4 5 9 False\n",
      "5 3 8 True\n",
      "8 4 12 True\n",
      "3 2 5 False\n",
      "2 10 12 True\n",
      "1 7 8 True\n"
     ]
    }
   ],
   "source": [
    "from random import randint\n",
    "\n",
    "for i in range(10):\n",
    "    a = randint(0, 10)\n",
    "    b = randint(0, 10)\n",
    "    print(a, b, somma(a,b), somma_e_pari(a, b))"
   ]
  },
  {
   "cell_type": "markdown",
   "metadata": {},
   "source": [
    "Scrivere funzioni per:\n",
    "\n",
    "1. chiedere all'utente quante volte controllare l'orario\n",
    "2. controllare l'orario\n",
    "3. controllare l'orario dopo una quantità casuale di secondi\n",
    "4. dirmi se i secondi (nell'orario) sono pari o dispari\n",
    "5. ripetere n volte"
   ]
  },
  {
   "cell_type": "code",
   "execution_count": 1,
   "metadata": {},
   "outputs": [
    {
     "name": "stdout",
     "output_type": "stream",
     "text": [
      "Aspetto 1 secondi\n",
      "Sono le 14:05:07\n",
      "I secondi sono dispari.\n"
     ]
    }
   ],
   "source": [
    "import random\n",
    "from datetime import datetime\n",
    "import time\n",
    "\n",
    "def richiedi_numero():\n",
    "    input_val = input(\"Quante volte vuoi controllare l'orario? \")\n",
    "    return int(input_val)\n",
    "\n",
    "def get_time():\n",
    "    now = datetime.now()\n",
    "    print(\"Sono le \" + now.strftime(\"%H:%M:%S\"))\n",
    "    return now\n",
    "\n",
    "def get_time_after_interval():\n",
    "    delay = random.randint(1,5)\n",
    "    print(\"Aspetto \" + str(delay) + \" secondi\")\n",
    "    time.sleep(delay)\n",
    "    now = get_time()\n",
    "    return now\n",
    "\n",
    "def is_seconds_even(time):\n",
    "    return time.second % 2 == 0\n",
    "\n",
    "def check_time(n):\n",
    "    for i in range (n):\n",
    "        now = get_time_after_interval()\n",
    "        if (is_seconds_even(now)):\n",
    "            print(\"I secondi sono pari.\")\n",
    "        else:\n",
    "            print(\"I secondi sono dispari.\")\n",
    "\n",
    "n = richiedi_numero()\n",
    "check_time(n)"
   ]
  },
  {
   "cell_type": "markdown",
   "metadata": {},
   "source": [
    "### Best practices (standards)\n",
    "- variabili, funzioni devono avere nomi senza maiuscole. es richiedi_numero non Richiedi_numero\n",
    "- usare il \"_\" per dividere le parole nelle variabili o funzioni. es Richiedi_numero non richiedinumero\n",
    "- eccezzioni:\n",
    "            - classi. es \"MiaClasse\"\n",
    "            - funzioni \"protette\". es \"_mio_metodo_protetto\"\n",
    "            - costanti (sono varisbili, ma non cambiano mai durante l'esecuzione). es MIA_COSTANTE = 5\n"
   ]
  }
 ],
 "metadata": {
  "kernelspec": {
   "display_name": "Python 3",
   "language": "python",
   "name": "python3"
  },
  "language_info": {
   "codemirror_mode": {
    "name": "ipython",
    "version": 3
   },
   "file_extension": ".py",
   "mimetype": "text/x-python",
   "name": "python",
   "nbconvert_exporter": "python",
   "pygments_lexer": "ipython3",
   "version": "3.12.0"
  }
 },
 "nbformat": 4,
 "nbformat_minor": 2
}
