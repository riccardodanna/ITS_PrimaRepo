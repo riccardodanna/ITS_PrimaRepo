{
 "cells": [
  {
   "cell_type": "code",
   "execution_count": 29,
   "metadata": {},
   "outputs": [
    {
     "name": "stdout",
     "output_type": "stream",
     "text": [
      "0\n",
      "2\n",
      "4\n",
      "6\n",
      "8\n"
     ]
    }
   ],
   "source": [
    "for i in range(0,10, 2):\n",
    "    print(i)"
   ]
  },
  {
   "cell_type": "code",
   "execution_count": 30,
   "metadata": {},
   "outputs": [
    {
     "name": "stdout",
     "output_type": "stream",
     "text": [
      "0\n",
      "1\n",
      "2\n",
      "3\n",
      "4\n",
      "5\n",
      "6\n",
      "7\n",
      "8\n",
      "9\n"
     ]
    }
   ],
   "source": [
    "i = 0\n",
    "while i < 10:\n",
    "    print(i)\n",
    "    i = i+1"
   ]
  },
  {
   "cell_type": "code",
   "execution_count": 31,
   "metadata": {},
   "outputs": [
    {
     "name": "stdout",
     "output_type": "stream",
     "text": [
      "o\n",
      "g\n",
      "g\n",
      "i\n",
      " \n",
      "è\n",
      " \n",
      "l\n",
      "u\n",
      "n\n",
      "e\n",
      "d\n",
      "ì\n"
     ]
    }
   ],
   "source": [
    "var_stringa = \"oggi è lunedì\"\n",
    "for l in var_stringa:\n",
    "    print(l)"
   ]
  },
  {
   "cell_type": "code",
   "execution_count": 32,
   "metadata": {},
   "outputs": [
    {
     "name": "stdout",
     "output_type": "stream",
     "text": [
      "Lunedì\n",
      "Martedì\n",
      "Mercoledì\n",
      "Giovedì\n",
      "Venerdì\n",
      "Sabato\n",
      "Domenica\n"
     ]
    }
   ],
   "source": [
    "giorni_settimana = [\"Lunedì\",\"Martedì\",\"Mercoledì\",\"Giovedì\",\"Venerdì\",\"Sabato\",\"Domenica\"]\n",
    "for i in range(len(giorni_settimana)):\n",
    "        print(giorni_settimana[i])"
   ]
  },
  {
   "cell_type": "code",
   "execution_count": 33,
   "metadata": {},
   "outputs": [
    {
     "name": "stdout",
     "output_type": "stream",
     "text": [
      "Lunedì\n",
      "Martedì\n",
      "Mercoledì\n",
      "Giovedì\n",
      "Venerdì\n",
      "Sabato\n",
      "Domenica\n"
     ]
    }
   ],
   "source": [
    "for giorno in giorni_settimana:\n",
    "        print(giorno)"
   ]
  },
  {
   "cell_type": "markdown",
   "metadata": {},
   "source": [
    "#### Logica di riordinamento"
   ]
  },
  {
   "cell_type": "markdown",
   "metadata": {},
   "source": [
    "ho un mazzo\n",
    "- faccio un ciclo for lungo tutto il mazzo\n",
    "- faccio un ciclo for annidato lungo tutto il mazzo\n",
    "-posizione 1 del mazzo è superiore rispetto alla successiva?\n",
    "se Sì scambio\n",
    "se no niente"
   ]
  },
  {
   "cell_type": "code",
   "execution_count": 58,
   "metadata": {},
   "outputs": [
    {
     "name": "stdout",
     "output_type": "stream",
     "text": [
      "[1, 2, 3, 4, 5, 9, 11, 13, 15, 17]\n"
     ]
    }
   ],
   "source": [
    "# BUBBLE SORT\n",
    "mazzo = [5,1,3,15,13,17,2,4,9,11]\n",
    "\n",
    "for j in range (0,len(mazzo)):\n",
    "    for i in range (0,len(mazzo)-1):\n",
    "        if mazzo[i]> mazzo [i+1]:\n",
    "            mazzo[i], mazzo[i+1] = mazzo[i+1], mazzo[i]\n",
    "\n",
    "print(mazzo)"
   ]
  },
  {
   "cell_type": "code",
   "execution_count": 78,
   "metadata": {},
   "outputs": [
    {
     "name": "stdout",
     "output_type": "stream",
     "text": [
      "[1, 2, 3, 4, 5, 7, 9, 11, 13, 15, 17]\n"
     ]
    }
   ],
   "source": [
    "# MERGE SORT\n",
    "# dividere il mazzo di carte in mazzetti\n",
    "# riordinare i mazzetti\n",
    "# unire i mazzetti nel nuovo mazzo ordinato\n",
    "\n",
    "def mergeSort(array):\n",
    "    if len(array)>1:\n",
    "        half_array = len(array) // 2\n",
    "        left_array = array[0:half_array]\n",
    "        right_array = array[half_array:]\n",
    "\n",
    "        mergeSort(left_array)\n",
    "        mergeSort(right_array)\n",
    "\n",
    "        i = j = k = 0\n",
    "\n",
    "        while i < len(left_array) and j < len(right_array):\n",
    "            if left_array[i] < right_array[j]:\n",
    "                array[k] = left_array[i]\n",
    "                i += 1\n",
    "            else:\n",
    "                array[k] = right_array[j]\n",
    "                j += 1\n",
    "\n",
    "            k += 1\n",
    "\n",
    "        while i < len(left_array):\n",
    "            array[k] = left_array[i]\n",
    "            i += 1\n",
    "            k += 1\n",
    "\n",
    "        while j < len(right_array):\n",
    "            array[k] = right_array[j]\n",
    "            j += 1\n",
    "            k += 1\n",
    "\n",
    "            \n",
    "mazzo = [5,11,3,15,13,17,2,4,9,1,7]\n",
    "mazzo_ordinato = mazzo.copy()\n",
    "\n",
    "mergeSort(mazzo_ordinato)\n",
    "print(mazzo_ordinato)"
   ]
  },
  {
   "cell_type": "code",
   "execution_count": 63,
   "metadata": {},
   "outputs": [
    {
     "name": "stdout",
     "output_type": "stream",
     "text": [
      "hello world!\n",
      "hello world!\n",
      "hello world!\n",
      "hello world!\n",
      "hello world!\n",
      "hello world!\n",
      "hello world!\n",
      "hello world!\n",
      "hello world!\n",
      "hello world!\n",
      "\n"
     ]
    }
   ],
   "source": [
    "\n",
    "def helloworld(n):\n",
    "    stringa= \"hello world!\\n\"\n",
    "    return stringa*n\n",
    "print(helloworld(10))"
   ]
  },
  {
   "cell_type": "code",
   "execution_count": 2,
   "metadata": {},
   "outputs": [
    {
     "name": "stdout",
     "output_type": "stream",
     "text": [
      "Hai indovinato!\n",
      "Questi sono stati i tuoi tentativi [7]\n"
     ]
    }
   ],
   "source": [
    "numero_segreto = 7\n",
    "tentativi_max = 3\n",
    "\n",
    "array = []\n",
    "\n",
    "for t in range(tentativi_max):\n",
    "    numero = int(input(\"Inserisci un numero: \"))\n",
    "    array.append(numero_segreto)\n",
    "    if numero == numero_segreto:\n",
    "        print(\"Hai indovinato!\")\n",
    "        break\n",
    "    else:\n",
    "        print(\"Riprova!\")\n",
    "\n",
    "print(\"Questi sono stati i tuoi tentativi\", array)"
   ]
  }
 ],
 "metadata": {
  "kernelspec": {
   "display_name": "Python 3",
   "language": "python",
   "name": "python3"
  },
  "language_info": {
   "codemirror_mode": {
    "name": "ipython",
    "version": 3
   },
   "file_extension": ".py",
   "mimetype": "text/x-python",
   "name": "python",
   "nbconvert_exporter": "python",
   "pygments_lexer": "ipython3",
   "version": "3.12.0"
  }
 },
 "nbformat": 4,
 "nbformat_minor": 2
}
