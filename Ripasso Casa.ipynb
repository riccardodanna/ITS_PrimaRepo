{
 "cells": [
  {
   "cell_type": "code",
   "execution_count": 16,
   "metadata": {},
   "outputs": [],
   "source": [
    "floor = int(input(\"Floor: \"))\n",
    "# Adjust floor if necessary.\n",
    "if floor > 13:\n",
    "    actual_floor = floor - 1\n",
    "else:\n",
    "    actual_floor = floor\n",
    "# Print the result.\n",
    "print(\"The elevator will travel to the actual floor\", actual_floor) "
   ]
  },
  {
   "cell_type": "code",
   "execution_count": 23,
   "metadata": {},
   "outputs": [
    {
     "name": "stdout",
     "output_type": "stream",
     "text": [
      "The investment doubled after 15 years.\n"
     ]
    }
   ],
   "source": [
    "# Il ciclo while è una if condition ma ripetuta fino a quando non diventa falsa\n",
    "# In questo esempio sarebbe: se il 'balance' è minore di 'target' fai questo...\n",
    "# Quando il 'balance' sarà uguale sarà uguale al 'target' la if condition diventerà falsa e il ciclo while verrà interrotto\n",
    "\n",
    "# Esempio\n",
    "# Create constant variables\n",
    "RATE = 5.0\n",
    "INITIAL_BALANCE = 10000.0\n",
    "TARGET = 2 * INITIAL_BALANCE\n",
    "# Initialize variables used with the loop\n",
    "balance = INITIAL_BALANCE\n",
    "year = 0\n",
    "# Count the years required for the investment to double\n",
    "while balance < TARGET:\n",
    "    year = year + 1\n",
    "    interest = balance * RATE / 100\n",
    "    balance = balance + interest\n",
    "# Print the results.\n",
    "print(\"The investment doubled after\", year, \"years.\")"
   ]
  },
  {
   "cell_type": "code",
   "execution_count": 4,
   "metadata": {},
   "outputs": [
    {
     "name": "stdout",
     "output_type": "stream",
     "text": [
      "Average salary is 6.666666666666667\n"
     ]
    }
   ],
   "source": [
    "# Codice per fare la media di quanti valori si vuole\n",
    "\n",
    "# This program prints the average of salary values that are terminated with \n",
    "# a sentinel.\n",
    "# Initialize variables to maintain the running total and count.\n",
    "total = 0.0\n",
    "count = 0\n",
    "# Initialize salary to any non-sentinel value.\n",
    "salary = 0.0\n",
    "# Process data until the sentinel is entered.\n",
    "while salary >= 0.0:\n",
    "    salary = float(input(\"Enter a salary or -1 to finish: \"))\n",
    "    if salary >= 0.0:\n",
    "        total = total + salary\n",
    "        count = count + 1\n",
    "# Compute and print the average salary.\n",
    "if count > 0:\n",
    "    average = total / count\n",
    "    print(\"Average salary is\", average)\n",
    "else:\n",
    "    print(\"No data was entered.\")"
   ]
  },
  {
   "cell_type": "code",
   "execution_count": 15,
   "metadata": {},
   "outputs": [
    {
     "name": "stdout",
     "output_type": "stream",
     "text": [
      "V\n",
      "i\n",
      "r\n",
      "g\n",
      "i\n",
      "n\n",
      "i\n",
      "a\n",
      "V\n",
      "i\n",
      "r\n",
      "g\n",
      "i\n",
      "n\n",
      "i\n",
      "a\n"
     ]
    }
   ],
   "source": [
    "# Ciclo while e ciclo for\n",
    "# Stampa le lettere di una parola\n",
    "\n",
    "# Soluzione con ciclo 'for'\n",
    "# Il ciclo for è utilizzato quando si conosce il numero esatto di iterazioni o si desidera iterare su una sequenza di elementi\n",
    "stateName = \"Virginia\"\n",
    "for letter in stateName :\n",
    "    print(letter)\n",
    "    \n",
    "# Soluzione con ciclo 'while'\n",
    "# Il ciclo while è utilizzato quando il numero di iterazioni non è noto a priori e si desidera eseguire il ciclo\n",
    "#  finché una certa condizione è vera\n",
    "stateName = \"Virginia\"\n",
    "i = 0\n",
    "while i < len(stateName) :\n",
    " letter = stateName[i]\n",
    " print(letter)\n",
    " i = i + 1"
   ]
  },
  {
   "cell_type": "code",
   "execution_count": 18,
   "metadata": {},
   "outputs": [
    {
     "name": "stdout",
     "output_type": "stream",
     "text": [
      "   2   11025.00\n"
     ]
    }
   ],
   "source": [
    "# Esempio di 'for in range'\n",
    "# This program prints a table showing the growth of an investment.\n",
    "# Define constant variables.\n",
    "RATE = 5.0\n",
    "INITIAL_BALANCE = 10000.0\n",
    "# Obtain the number of years for the computation.\n",
    "num_years = int(input(\"Enter number of years: \"))\n",
    "# Print the table of balances for each year.\n",
    "balance = INITIAL_BALANCE\n",
    "for year in range(1, num_years + 1):\n",
    "    interest = balance * RATE / 100\n",
    "    balance = balance + interest\n",
    "print(f'{year:4d} {balance:10.2f}')\n"
   ]
  },
  {
   "cell_type": "code",
   "execution_count": 26,
   "metadata": {},
   "outputs": [
    {
     "name": "stdout",
     "output_type": "stream",
     "text": [
      "Ciao, mi chiamo Alice e ho 30 anni.\n",
      "Ciao, mi chiamo Alice e ho 30 anni.\n"
     ]
    }
   ],
   "source": [
    "# Due modi per fare la stessa cosa\n",
    "# Usando i +\n",
    "# bisogna convertire lìetà in stringa visto che l'int non viene accettato\n",
    "nome = \"Alice\"\n",
    "età = 30\n",
    "stringa_formattata = \"Ciao, mi chiamo \"+ nome + \" e ho \" + str(età) + \" anni.\"\n",
    "print(stringa_formattata)\n",
    "# usando la funzione f' e {} (comando per fare le {}: maiusc e altr gr)\n",
    "nome = \"Alice\"\n",
    "età = 30\n",
    "stringa_formattata = f\"Ciao, mi chiamo {nome} e ho {età} anni.\"\n",
    "print(stringa_formattata)"
   ]
  }
 ],
 "metadata": {
  "kernelspec": {
   "display_name": "Python 3",
   "language": "python",
   "name": "python3"
  },
  "language_info": {
   "codemirror_mode": {
    "name": "ipython",
    "version": 3
   },
   "file_extension": ".py",
   "mimetype": "text/x-python",
   "name": "python",
   "nbconvert_exporter": "python",
   "pygments_lexer": "ipython3",
   "version": "3.12.0"
  }
 },
 "nbformat": 4,
 "nbformat_minor": 2
}
