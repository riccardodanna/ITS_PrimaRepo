{
 "cells": [
  {
   "cell_type": "code",
   "execution_count": 16,
   "metadata": {},
   "outputs": [],
   "source": [
    "floor = int(input(\"Floor: \"))\n",
    "# Adjust floor if necessary.\n",
    "if floor > 13:\n",
    "    actual_floor = floor - 1\n",
    "else:\n",
    "    actual_floor = floor\n",
    "# Print the result.\n",
    "print(\"The elevator will travel to the actual floor\", actual_floor) "
   ]
  },
  {
   "cell_type": "code",
   "execution_count": 23,
   "metadata": {},
   "outputs": [
    {
     "name": "stdout",
     "output_type": "stream",
     "text": [
      "The investment doubled after 15 years.\n"
     ]
    }
   ],
   "source": [
    "# Il ciclo while è una if condition ma ripetuta fino a quando non diventa falsa\n",
    "# In questo esempio sarebbe: se il 'balance' è minore di 'target' fai questo...\n",
    "# Quando il 'balance' sarà uguale sarà uguale al 'target' la if condition diventerà falsa e il ciclo while verrà interrotto\n",
    "\n",
    "# Esempio\n",
    "# Create constant variables\n",
    "RATE = 5.0\n",
    "INITIAL_BALANCE = 10000.0\n",
    "TARGET = 2 * INITIAL_BALANCE\n",
    "# Initialize variables used with the loop\n",
    "balance = INITIAL_BALANCE\n",
    "year = 0\n",
    "# Count the years required for the investment to double\n",
    "while balance < TARGET:\n",
    "    year = year + 1\n",
    "    interest = balance * RATE / 100\n",
    "    balance = balance + interest\n",
    "# Print the results.\n",
    "print(\"The investment doubled after\", year, \"years.\")"
   ]
  }
 ],
 "metadata": {
  "kernelspec": {
   "display_name": "Python 3",
   "language": "python",
   "name": "python3"
  },
  "language_info": {
   "codemirror_mode": {
    "name": "ipython",
    "version": 3
   },
   "file_extension": ".py",
   "mimetype": "text/x-python",
   "name": "python",
   "nbconvert_exporter": "python",
   "pygments_lexer": "ipython3",
   "version": "3.12.0"
  }
 },
 "nbformat": 4,
 "nbformat_minor": 2
}
