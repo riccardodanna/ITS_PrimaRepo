{
 "cells": [
  {
   "cell_type": "code",
   "execution_count": 83,
   "metadata": {},
   "outputs": [
    {
     "name": "stdout",
     "output_type": "stream",
     "text": [
      "[1, 2, 3, 4, 5]\n",
      "2\n",
      "36\n"
     ]
    }
   ],
   "source": [
    "# Scalar values\n",
    "\n",
    "var_int = 10\n",
    "var_bool = True\n",
    "var_float = 10.5\n",
    "var_none = None\n",
    "\n",
    "# Sets of values\n",
    "\n",
    "var_str = \"Hello World\"\n",
    "var_list = [1,2,3,4,5]\n",
    "var_tuple = (1,2,3,4,5)\n",
    "var_dict = {\"name\": \"John\", \"Age\": 36}\n",
    "\n",
    "# Print values\n",
    "\n",
    "print(var_list)\n",
    "print(var_list[1])\n",
    "\n",
    "print(var_dict[\"Age\"])"
   ]
  },
  {
   "cell_type": "code",
   "execution_count": 84,
   "metadata": {},
   "outputs": [
    {
     "name": "stdout",
     "output_type": "stream",
     "text": [
      "[10, True, 10.5]\n"
     ]
    }
   ],
   "source": [
    "var_list2 = [var_int, var_bool, var_float]\n",
    "print(var_list2)"
   ]
  },
  {
   "cell_type": "code",
   "execution_count": 85,
   "metadata": {},
   "outputs": [
    {
     "name": "stdout",
     "output_type": "stream",
     "text": [
      "10\n"
     ]
    },
    {
     "data": {
      "text/plain": [
       "10"
      ]
     },
     "execution_count": 85,
     "metadata": {},
     "output_type": "execute_result"
    }
   ],
   "source": [
    "print(str(var_int))\n",
    "\n",
    "int(str(var_int))\n"
   ]
  },
  {
   "cell_type": "code",
   "execution_count": 86,
   "metadata": {},
   "outputs": [],
   "source": [
    "var_float2 = 43.5\n",
    "var_int2 = int(var_float2)\n",
    "var_str3 = str(var_float2)\n",
    "var_bool2 = (var_float2)"
   ]
  },
  {
   "cell_type": "code",
   "execution_count": 87,
   "metadata": {},
   "outputs": [
    {
     "name": "stdout",
     "output_type": "stream",
     "text": [
      "20.5\n",
      "-0.5\n",
      "105.0\n",
      "0.9523809523809523\n",
      "1000\n",
      "1\n",
      "3\n"
     ]
    }
   ],
   "source": [
    "addizione = var_int + var_float\n",
    "print(addizione)\n",
    "\n",
    "sottrazione = var_int - var_float\n",
    "print(sottrazione)\n",
    "\n",
    "moltiplicazione = var_int * var_float\n",
    "print(moltiplicazione)\n",
    "\n",
    "divisione = var_int / var_float\n",
    "print(divisione)\n",
    "\n",
    "potenza = 10 ** 3\n",
    "print(potenza)\n",
    "\n",
    "modulo = 10 % 3\n",
    "print(modulo)\n",
    "\n",
    "divisione_interna = 10 // 3\n",
    "print(divisione_interna)"
   ]
  },
  {
   "cell_type": "code",
   "execution_count": 88,
   "metadata": {},
   "outputs": [
    {
     "name": "stdout",
     "output_type": "stream",
     "text": [
      "Hello WorldHello WorldHello World\n",
      "Hello World Hello World\n"
     ]
    }
   ],
   "source": [
    "#moltiplicazione di stringhe\n",
    "print(var_str*3)\n",
    "\n",
    "#concatenzaione di stringhe\n",
    "print(var_str + \" \" + var_str)\n"
   ]
  },
  {
   "cell_type": "code",
   "execution_count": 89,
   "metadata": {},
   "outputs": [
    {
     "name": "stdout",
     "output_type": "stream",
     "text": [
      "ciao mi chiamo John e ho 36 anni\n",
      "[1, 2, 3, 4, 5]\n",
      "1 2 3\n",
      "[1, 2, 3, 4, 5, 6]\n"
     ]
    }
   ],
   "source": [
    "print(\"ciao mi chiamo \" + var_dict[\"name\"] + \" e ho \" + str(var_dict[\"Age\"]) + \" anni\")\n",
    "print(var_list)\n",
    "print(str(var_list[0]) + \" \" + str(var_list[1]) + \" \" + str(var_list[2]))\n",
    "\n",
    "#aggiungere elementi ad una lista\n",
    "var_list.append(6)\n",
    "print(var_list)"
   ]
  },
  {
   "cell_type": "code",
   "execution_count": 90,
   "metadata": {},
   "outputs": [
    {
     "data": {
      "text/plain": [
       "2"
      ]
     },
     "execution_count": 90,
     "metadata": {},
     "output_type": "execute_result"
    }
   ],
   "source": [
    "var_list.pop(1) #rimuovere l'elemento in posizione 1"
   ]
  },
  {
   "cell_type": "code",
   "execution_count": 91,
   "metadata": {},
   "outputs": [
    {
     "name": "stdout",
     "output_type": "stream",
     "text": [
      "[1, 4, 5, 6]\n"
     ]
    }
   ],
   "source": [
    "var_list.pop(1)\n",
    "print(var_list)"
   ]
  },
  {
   "cell_type": "code",
   "execution_count": 92,
   "metadata": {},
   "outputs": [
    {
     "name": "stdout",
     "output_type": "stream",
     "text": [
      "[1, 4, 5, 6]\n",
      "[1, 5, 6]\n"
     ]
    }
   ],
   "source": [
    "print(var_list)\n",
    "var_list.remove(4)\n",
    "print(var_list)"
   ]
  },
  {
   "cell_type": "code",
   "execution_count": 94,
   "metadata": {},
   "outputs": [
    {
     "name": "stdout",
     "output_type": "stream",
     "text": [
      "[1, 5, 6]\n"
     ]
    }
   ],
   "source": [
    "ind = var_list.index(1)\n",
    "print(var_list)"
   ]
  },
  {
   "cell_type": "code",
   "execution_count": null,
   "metadata": {},
   "outputs": [
    {
     "name": "stdout",
     "output_type": "stream",
     "text": [
      "[4, 3, 2, 1]\n",
      "[1, 2, 3, 4]\n",
      "[1, 2, 3, 4]\n",
      "[4, 3, 2, 1]\n",
      "4\n"
     ]
    }
   ],
   "source": [
    "var_list.sort(reverse=True)\n",
    "print(var_list)\n",
    "\n",
    "var_list.sort()\n",
    "print(var_list)\n",
    "\n",
    "var_list2 = var_list.copy() + var_list.copy()\n",
    "print(var_list)\n",
    "\n",
    "var_list.reverse()\n",
    "print(var_list)\n",
    "\n",
    "var_list2.clear()\n",
    "\n",
    "numero_elementi_lista = len(var_list)\n",
    "print(numero_elementi_lista)"
   ]
  },
  {
   "cell_type": "code",
   "execution_count": 102,
   "metadata": {},
   "outputs": [
    {
     "name": "stdout",
     "output_type": "stream",
     "text": [
      "Hello Hello Hello you are turning 34 today\n"
     ]
    }
   ],
   "source": [
    "hello = \"Hello \"\n",
    "age = \" 34 \"\n",
    "print(hello*3 + \"you are turning\" + str(age) + \"today\")"
   ]
  },
  {
   "cell_type": "code",
   "execution_count": 113,
   "metadata": {},
   "outputs": [
    {
     "name": "stdout",
     "output_type": "stream",
     "text": [
      "1.083\n",
      "7650000000000000000\n"
     ]
    }
   ],
   "source": [
    "A = 1/2\n",
    "B = 1/3\n",
    "C = 1/4\n",
    "addizione = A + B + C\n",
    "print(round(addizione, 3))\n",
    "\n",
    "N1 = 85\n",
    "N2 = 3\n",
    "N3 = 10\n",
    "moltiplicazione = N1*(N2*N3**8)**2\n",
    "print(moltiplicazione)"
   ]
  },
  {
   "cell_type": "code",
   "execution_count": 114,
   "metadata": {},
   "outputs": [
    {
     "name": "stdout",
     "output_type": "stream",
     "text": [
      "7650000000000000000\n"
     ]
    }
   ],
   "source": [
    "m= 85\n",
    "c= 3 * 10 **8\n",
    "Energy = m * c **2\n",
    "print(Energy)"
   ]
  },
  {
   "cell_type": "code",
   "execution_count": 124,
   "metadata": {},
   "outputs": [
    {
     "name": "stdout",
     "output_type": "stream",
     "text": [
      "Ciao Riccardo, la tua energia è 4.95e+18\n"
     ]
    }
   ],
   "source": [
    "#codice che richiede all'utente il suo nome e il suo peso e restituisce la sua energia con la formula di Einstein\n",
    "nome = input(\"Inserisci il tuo nome: \")\n",
    "peso = float(input(\"Inserisci il tuo peso: \"))\n",
    "Energia = peso * c ** 2\n",
    "print(\"Ciao \" + nome + \", la tua energia è \" + str(Energia))"
   ]
  },
  {
   "cell_type": "code",
   "execution_count": 132,
   "metadata": {},
   "outputs": [
    {
     "ename": "SyntaxError",
     "evalue": "expected 'else' after 'if' expression (3169321645.py, line 4)",
     "output_type": "error",
     "traceback": [
      "\u001b[1;36m  Cell \u001b[1;32mIn[132], line 4\u001b[1;36m\u001b[0m\n\u001b[1;33m    print(\"INDOVINATO!!!\" if numero = numero_segreto, \"HAI SBAGLIATO\" if numero not numero_segreto)\u001b[0m\n\u001b[1;37m          ^\u001b[0m\n\u001b[1;31mSyntaxError\u001b[0m\u001b[1;31m:\u001b[0m expected 'else' after 'if' expression\n"
     ]
    }
   ],
   "source": [
    "utente = input(\"Inserisci il tuo nome: \")\n",
    "numero = input(\"Inserisci un numero: \")\n",
    "numero_segreto = 7\n",
    "print(\"INDOVINATO!!!\" if numero = numero_segreto, \"HAI SBAGLIATO\" if numero not numero_segreto)"
   ]
  },
  {
   "cell_type": "code",
   "execution_count": 133,
   "metadata": {},
   "outputs": [
    {
     "name": "stdout",
     "output_type": "stream",
     "text": [
      "Ciao riccardo, il numero segreto era: 7. Hai indovinato? True\n"
     ]
    }
   ],
   "source": [
    "utente = input(\"Inserisci il tuo nome: \")\n",
    "numero_segreto = 7\n",
    "numero = int(input(\"Inserisci un numero: \"))\n",
    "risultato = numero == numero_segreto\n",
    "print(\"Ciao \" + utente + \", il numero segreto era: \" + str(numero_segreto) + \". Hai indovinato? \" +str(risultato))"
   ]
  },
  {
   "cell_type": "code",
   "execution_count": 137,
   "metadata": {},
   "outputs": [
    {
     "name": "stdout",
     "output_type": "stream",
     "text": [
      "Ciao dima, il numero segreto era: 7\n",
      "Non hai indovinato!\n",
      "Riprova!\n"
     ]
    }
   ],
   "source": [
    "utente = input(\"Inserisci il tuo nome: \")\n",
    "numero_segreto = 7\n",
    "numero = int(input(\"Inserisci un numero: \"))\n",
    "risultato = numero == numero_segreto\n",
    "\n",
    "print(\"Ciao \" + utente + \", il numero segreto era: \" + str(numero_segreto))\n",
    "if risultato:\n",
    "    print(\"Hai indovinato!\")\n",
    "else:\n",
    "    print(\"Non hai indovinato!\")\n",
    "    print(\"Riprova!\")"
   ]
  }
 ],
 "metadata": {
  "kernelspec": {
   "display_name": "Python 3",
   "language": "python",
   "name": "python3"
  },
  "language_info": {
   "codemirror_mode": {
    "name": "ipython",
    "version": 3
   },
   "file_extension": ".py",
   "mimetype": "text/x-python",
   "name": "python",
   "nbconvert_exporter": "python",
   "pygments_lexer": "ipython3",
   "version": "3.12.0"
  }
 },
 "nbformat": 4,
 "nbformat_minor": 2
}
