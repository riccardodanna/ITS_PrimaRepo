{
 "cells": [
  {
   "cell_type": "code",
   "execution_count": 12,
   "metadata": {},
   "outputs": [
    {
     "name": "stdout",
     "output_type": "stream",
     "text": [
      "{'Inter': 41, 'Juventus': 37, 'Milan': 32}\n",
      "Punteggio Juventus: 37\n"
     ]
    }
   ],
   "source": [
    "array_squadra = [\"Inter\",\"Juventus\",\"Milan\"]\n",
    "array_punteggio = [41,37,32]\n",
    "\n",
    "Classifica_serieA = dict()\n",
    "for i in range(len(array_squadra)):\n",
    "    Classifica_serieA[array_squadra[i]] = array_punteggio[i]\n",
    "    \n",
    "print(Classifica_serieA)\n",
    "print(\"Punteggio Juventus:\",Classifica_serieA[\"Juventus\"])"
   ]
  },
  {
   "cell_type": "markdown",
   "metadata": {},
   "source": [
    "versione 2"
   ]
  },
  {
   "cell_type": "code",
   "execution_count": 39,
   "metadata": {},
   "outputs": [],
   "source": [
    "# costruisco una funzione a 3 parametri: diz, squadra, punt. diz[squadra] = punteggio\n",
    "\n",
    "# Classifica_serieA = {}\n",
    "\n",
    "def creaClassifica (dict_input, squadra, punteggio):\n",
    "    dict_input[squadra] = punteggio\n",
    "    return dict_input\n",
    "\n",
    "for i in range(20):\n",
    "    squadra = input(\"Inserisci una squadra: \")\n",
    "    punteggio = input(f\"Inserisci il punteggio della squadra {squadra}: \")\n",
    "    Classifica_serieA = creaClassifica(Classifica_serieA, squadra, punteggio)"
   ]
  },
  {
   "cell_type": "code",
   "execution_count": 41,
   "metadata": {},
   "outputs": [
    {
     "data": {
      "text/plain": [
       "{'Inter': '41',\n",
       " 'Juventus': '37',\n",
       " 'Milan': '32',\n",
       " 'inter': '41',\n",
       " 'Bologna': '28',\n",
       " 'Fiorentina': '27',\n",
       " 'Napoli': '27',\n",
       " 'Atalanta': '26',\n",
       " 'Roma': '25',\n",
       " 'Torino': '23',\n",
       " 'Monza': '21',\n",
       " 'Lazio': '21',\n",
       " 'Lecce': '20',\n",
       " 'Frosinone': '19',\n",
       " 'Genoa': '16',\n",
       " 'Sassuolo': '16',\n",
       " 'Cagliari': '13',\n",
       " 'Udinese': '13',\n",
       " 'Empoli': '12',\n",
       " 'Hellas Verona': '11',\n",
       " 'Salernitana': '8'}"
      ]
     },
     "execution_count": 41,
     "metadata": {},
     "output_type": "execute_result"
    }
   ],
   "source": [
    "Classifica_serieA"
   ]
  },
  {
   "cell_type": "code",
   "execution_count": 42,
   "metadata": {},
   "outputs": [
    {
     "name": "stdout",
     "output_type": "stream",
     "text": [
      "pippo ha 5 lettere.\n",
      "pippo ha 5 lettere.\n",
      "pluto ha 5 lettere.\n",
      "pluto ha 5 lettere.\n",
      "paperino ha 8 lettere.\n",
      "paperino ha 8 lettere.\n"
     ]
    }
   ],
   "source": [
    "list_names = [\"pippo\",\"pluto\",\"paperino\"]\n",
    "\n",
    "# Costruire una funzione che mi dice il nome selezionato ha n lettere\n",
    "# Esempio: pippo ha 5 lettere\n",
    "for name in list_names:\n",
    "    print( name, \"ha\", len(name), \"lettere.\" )\n",
    "    print( f\"{name} ha {len(name)} lettere.\" )"
   ]
  },
  {
   "cell_type": "code",
   "execution_count": 43,
   "metadata": {},
   "outputs": [],
   "source": [
    "# Step di generalizzazione\n",
    "\n",
    "def ContaLettere(list_name_input, list_index):\n",
    "    string_evaluation = f\"{list_name_input[list_index]} ha {len(list_name_input[list_index])} lettere.\"\n",
    "    return string_evaluation\n",
    "\n",
    "def InserisciNome(list_name_input, new_name):\n",
    "    list_name_input.append(new_name)\n",
    "    return"
   ]
  },
  {
   "cell_type": "code",
   "execution_count": 44,
   "metadata": {},
   "outputs": [
    {
     "name": "stdout",
     "output_type": "stream",
     "text": [
      "pippo ha 5 lettere.\n",
      "pluto ha 5 lettere.\n",
      "paperino ha 8 lettere.\n",
      "['pippo', 'pluto', 'paperino', 'topolino']\n"
     ]
    }
   ],
   "source": [
    "list_names = [\"pippo\",\"pluto\",\"paperino\"]\n",
    "\n",
    "for i in range(len(list_names)):\n",
    "    print(ContaLettere(list_names,i))\n",
    "    \n",
    "InserisciNome(list_names, \"topolino\")\n",
    "\n",
    "print(list_names)"
   ]
  },
  {
   "cell_type": "code",
   "execution_count": 45,
   "metadata": {},
   "outputs": [
    {
     "data": {
      "image/png": "[encoded data removed]",
      "text/plain": [
       "<Figure size 640x480 with 1 Axes>"
      ]
     },
     "metadata": {},
     "output_type": "display_data"
    }
   ],
   "source": [
    "# grafico a barre in cui asse x = nomi, asse y = numero di lettere\n",
    "\n",
    "from matplotlib import pyplot as plt \n",
    "\n",
    "x_axis = list_names\n",
    "y_axis = [ len(e) for e in x_axis ] # for in line\n",
    "\n",
    "plt.bar(x_axis, y_axis)\n",
    "\n",
    "plt.title(\"Lista nomi\")\n",
    "plt.xlabel(\"Nomi\")\n",
    "plt.ylabel(\"# lettere\")\n",
    "\n",
    "plt.show()"
   ]
  },
  {
   "cell_type": "code",
   "execution_count": 46,
   "metadata": {},
   "outputs": [],
   "source": [
    "# how many palindrom days there have been?\n",
    "# 22/02/2022\n",
    "# 1. Define functions to convert any day in a DD/MM/YYYY format\n",
    " \n",
    "# 2. generate a date range\n",
    " \n",
    "# 3. Verify if the date is palindrome\n",
    " \n",
    "# 4. Format a nice output!"
   ]
  },
  {
   "cell_type": "markdown",
   "metadata": {},
   "source": [
    "## Connessione a sql server"
   ]
  },
  {
   "cell_type": "code",
   "execution_count": 47,
   "metadata": {},
   "outputs": [
    {
     "name": "stdout",
     "output_type": "stream",
     "text": [
      "Requirement already satisfied: pyodbc in c:\\users\\riccardod'anna\\appdata\\local\\programs\\python\\python312\\lib\\site-packages (5.0.1)\n",
      "Note: you may need to restart the kernel to use updated packages.\n"
     ]
    },
    {
     "name": "stderr",
     "output_type": "stream",
     "text": [
      "\n",
      "[notice] A new release of pip is available: 23.2.1 -> 23.3.2\n",
      "[notice] To update, run: python.exe -m pip install --upgrade pip\n"
     ]
    }
   ],
   "source": [
    "%pip install pyodbc"
   ]
  },
  {
   "cell_type": "code",
   "execution_count": 48,
   "metadata": {},
   "outputs": [
    {
     "name": "stdout",
     "output_type": "stream",
     "text": [
      "['SQL Server', 'SQL Server Native Client RDA 11.0', 'ODBC Driver 17 for SQL Server', 'Microsoft Access Driver (*.mdb, *.accdb)', 'Microsoft Excel Driver (*.xls, *.xlsx, *.xlsm, *.xlsb)', 'Microsoft Access Text Driver (*.txt, *.csv)']\n"
     ]
    }
   ],
   "source": [
    "import pyodbc\n",
    "# py OBDC: open database connection\n",
    "print(pyodbc.drivers())\n",
    "driver =  'ODBC Driver 17 for SQL Server'"
   ]
  },
  {
   "cell_type": "code",
   "execution_count": 49,
   "metadata": {},
   "outputs": [
    {
     "name": "stdout",
     "output_type": "stream",
     "text": [
      "DRIVER=ODBC Driver 17 for SQL Server;SERVER=localhost;DATABASE=Test_C001;Trusted_Connection=yes\n"
     ]
    }
   ],
   "source": [
    "# la prima connessione al bastabase sql server\n",
    "driver = 'ODBC Driver 17 for SQL Server'\n",
    "server = 'localhost'\n",
    "database= 'Test_C001'\n",
    "conn_string =  f\"DRIVER={driver};SERVER={server};DATABASE={database};Trusted_Connection=yes\"\n",
    "\n",
    "print(conn_string)"
   ]
  },
  {
   "cell_type": "code",
   "execution_count": 50,
   "metadata": {},
   "outputs": [],
   "source": [
    "cnxn = pyodbc.connect(conn_string)"
   ]
  },
  {
   "cell_type": "markdown",
   "metadata": {},
   "source": [
    "## creazione tabella"
   ]
  },
  {
   "cell_type": "code",
   "execution_count": 51,
   "metadata": {},
   "outputs": [
    {
     "ename": "ProgrammingError",
     "evalue": "('42S01', \"[42S01] [Microsoft][ODBC Driver 17 for SQL Server][SQL Server]There is already an object named 'colori' in the database. (2714) (SQLExecDirectW)\")",
     "output_type": "error",
     "traceback": [
      "\u001b[1;31m---------------------------------------------------------------------------\u001b[0m",
      "\u001b[1;31mProgrammingError\u001b[0m                          Traceback (most recent call last)",
      "Cell \u001b[1;32mIn[51], line 4\u001b[0m\n\u001b[0;32m      1\u001b[0m cursor \u001b[38;5;241m=\u001b[39m cnxn\u001b[38;5;241m.\u001b[39mcursor()\n\u001b[0;32m      3\u001b[0m query \u001b[38;5;241m=\u001b[39m \u001b[38;5;124m'\u001b[39m\u001b[38;5;124mcreate table dbo.colori(id int identity(1,1), colore varchar(25))\u001b[39m\u001b[38;5;124m'\u001b[39m\n\u001b[1;32m----> 4\u001b[0m result \u001b[38;5;241m=\u001b[39m \u001b[43mcursor\u001b[49m\u001b[38;5;241;43m.\u001b[39;49m\u001b[43mexecute\u001b[49m\u001b[43m(\u001b[49m\u001b[43mquery\u001b[49m\u001b[43m)\u001b[49m\n\u001b[0;32m      5\u001b[0m result\n",
      "\u001b[1;31mProgrammingError\u001b[0m: ('42S01', \"[42S01] [Microsoft][ODBC Driver 17 for SQL Server][SQL Server]There is already an object named 'colori' in the database. (2714) (SQLExecDirectW)\")"
     ]
    }
   ],
   "source": [
    "cursor = cnxn.cursor()\n",
    " \n",
    "query = 'create table dbo.colori(id int identity(1,1), colore varchar(25))'\n",
    "result = cursor.execute(query)\n",
    "result"
   ]
  },
  {
   "cell_type": "code",
   "execution_count": null,
   "metadata": {},
   "outputs": [
    {
     "ename": "NameError",
     "evalue": "name 'result' is not defined",
     "output_type": "error",
     "traceback": [
      "\u001b[1;31m---------------------------------------------------------------------------\u001b[0m",
      "\u001b[1;31mNameError\u001b[0m                                 Traceback (most recent call last)",
      "Cell \u001b[1;32mIn[23], line 1\u001b[0m\n\u001b[1;32m----> 1\u001b[0m \u001b[43mresult\u001b[49m\u001b[38;5;241m.\u001b[39mcommit()\n",
      "\u001b[1;31mNameError\u001b[0m: name 'result' is not defined"
     ]
    }
   ],
   "source": [
    "result.commit()"
   ]
  },
  {
   "cell_type": "markdown",
   "metadata": {},
   "source": [
    "## inserimento record"
   ]
  },
  {
   "cell_type": "code",
   "execution_count": null,
   "metadata": {},
   "outputs": [],
   "source": [
    "query = \" insert into dbo.colori values('rosso'), ('bianco'), ('verde')\"\n",
    "\n",
    "cursor.execute(query)\n",
    "cursor.commit()"
   ]
  },
  {
   "cell_type": "markdown",
   "metadata": {},
   "source": [
    "## lettura di record"
   ]
  },
  {
   "cell_type": "code",
   "execution_count": null,
   "metadata": {},
   "outputs": [],
   "source": [
    "query = \"SELECT [id],[colore] FROM [dbo].[colori]\"\n",
    "table= []\n",
    "tabella = cursor.execute(query)\n",
    "for row in cursor:\n",
    "    table.append(row)"
   ]
  },
  {
   "cell_type": "code",
   "execution_count": null,
   "metadata": {},
   "outputs": [],
   "source": [
    "# il cursore è oneshot: nel momento in cui apro il contenuto di un riga viene eliminata dal cursore\n",
    "for row in cursor:\n",
    "    print(row)"
   ]
  },
  {
   "cell_type": "code",
   "execution_count": null,
   "metadata": {},
   "outputs": [
    {
     "data": {
      "text/plain": [
       "[(1, 'rosso'),\n",
       " (2, 'bianco'),\n",
       " (3, 'verde'),\n",
       " (4, 'rosso'),\n",
       " (5, 'bianco'),\n",
       " (6, 'verde')]"
      ]
     },
     "execution_count": 27,
     "metadata": {},
     "output_type": "execute_result"
    }
   ],
   "source": [
    "table"
   ]
  },
  {
   "cell_type": "code",
   "execution_count": null,
   "metadata": {},
   "outputs": [],
   "source": [
    "query = \"SELECT [id],[colore] FROM [dbo].[colori]\"\n",
    "table = []\n",
    "cursor.execute(query)\n",
    "table= cursor.fetchall()"
   ]
  },
  {
   "cell_type": "code",
   "execution_count": null,
   "metadata": {},
   "outputs": [
    {
     "data": {
      "text/plain": [
       "[(1, 'rosso'),\n",
       " (2, 'bianco'),\n",
       " (3, 'verde'),\n",
       " (4, 'rosso'),\n",
       " (5, 'bianco'),\n",
       " (6, 'verde')]"
      ]
     },
     "execution_count": 29,
     "metadata": {},
     "output_type": "execute_result"
    }
   ],
   "source": [
    "table"
   ]
  },
  {
   "cell_type": "markdown",
   "metadata": {},
   "source": [
    "### Creazione classifica serie A"
   ]
  },
  {
   "cell_type": "code",
   "execution_count": null,
   "metadata": {},
   "outputs": [
    {
     "name": "stdout",
     "output_type": "stream",
     "text": [
      "exec dbo.jsonInput \n"
     ]
    }
   ],
   "source": [
    "query = f\"exec dbo.jsonInput \"\n",
    "print(query)"
   ]
  },
  {
   "cell_type": "code",
   "execution_count": null,
   "metadata": {},
   "outputs": [
    {
     "name": "stdout",
     "output_type": "stream",
     "text": [
      "[(1, 'Inter', 41), (2, 'Juventus', 37), (3, 'Milan', 32), (4, 'inter', 41), (5, 'Bologna', 28), (6, 'Fiorentina', 27), (7, 'Napoli', 27), (8, 'Atalanta', 26), (9, 'Roma', 25), (10, 'Torino', 23), (11, 'Monza', 21), (12, 'Lazio', 21), (13, 'Lecce', 20), (14, 'Frosinone', 19), (15, 'Genoa', 16), (16, 'Sassuolo', 16), (17, 'Cagliari', 13), (18, 'Udinese', 13), (19, 'Empoli', 12), (20, 'Hellas Verona', 11), (21, 'Salernitana', 8)]\n"
     ]
    }
   ],
   "source": [
    "import json\n",
    "\n",
    "Classifica_serieA_JSON = json.dumps(Classifica_serieA)\n",
    "query = f\"exec dbo.jsonInput '{Classifica_serieA_JSON}'\"\n",
    "cursor.execute(query)\n",
    "cursor.commit()\n",
    "\n",
    "cursor.execute(\"Select * from dbo.Classifica_SerieA\")\n",
    "print(cursor.fetchall())"
   ]
  },
  {
   "cell_type": "code",
   "execution_count": null,
   "metadata": {},
   "outputs": [],
   "source": [
    "cursor.execute(\"truncate table dbo.Classifica_SerieA\").commit()"
   ]
  },
  {
   "cell_type": "code",
   "execution_count": null,
   "metadata": {},
   "outputs": [
    {
     "name": "stdout",
     "output_type": "stream",
     "text": [
      "[(1, 'Inter', 41), (2, 'Juventus', 37), (3, 'Milan', 32), (4, 'inter', 41), (5, 'Bologna', 28), (6, 'Fiorentina', 27), (7, 'Napoli', 27), (8, 'Atalanta', 26), (9, 'Roma', 25), (10, 'Torino', 23), (11, 'Monza', 21), (12, 'Lazio', 21), (13, 'Lecce', 20), (14, 'Frosinone', 19), (15, 'Genoa', 16), (16, 'Sassuolo', 16), (17, 'Cagliari', 13), (18, 'Udinese', 13), (19, 'Empoli', 12), (20, 'Hellas Verona', 11), (21, 'Salernitana', 8)]\n"
     ]
    }
   ],
   "source": [
    "for item in Classifica_serieA:\n",
    "    cursor.execute( \"insert into dbo.Classifica_SerieA values (?,?)\", item, Classifica_serieA[item]).commit()\n",
    "\n",
    "cursor.execute(\"Select * from dbo.Classifica_SerieA\")\n",
    "print(cursor.fetchall())"
   ]
  }
 ],
 "metadata": {
  "kernelspec": {
   "display_name": "Python 3",
   "language": "python",
   "name": "python3"
  },
  "language_info": {
   "codemirror_mode": {
    "name": "ipython",
    "version": 3
   },
   "file_extension": ".py",
   "mimetype": "text/x-python",
   "name": "python",
   "nbconvert_exporter": "python",
   "pygments_lexer": "ipython3",
   "version": "3.12.0"
  }
 },
 "nbformat": 4,
 "nbformat_minor": 2
}
