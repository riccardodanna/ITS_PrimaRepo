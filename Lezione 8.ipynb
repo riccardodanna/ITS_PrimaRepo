{
 "cells": [
  {
   "cell_type": "code",
   "execution_count": 28,
   "metadata": {},
   "outputs": [
    {
     "name": "stdout",
     "output_type": "stream",
     "text": [
      "{'Inter': 41, 'Juventus': 37, 'Milan': 32}\n",
      "Punteggio Juventus: 37\n"
     ]
    }
   ],
   "source": [
    "# Costruire la classifica di serie A\n",
    "array_squadra= [\"Inter\", \"Juventus\", \"Milan\"]\n",
    "array_punteggio= [41,37,32]\n",
    "classifica_serieA = dict()\n",
    "\n",
    "for i in range(len(array_squadra)):\n",
    "    classifica_serieA[array_squadra[i]]=array_punteggio[i]\n",
    "\n",
    "print(classifica_serieA)\n",
    "print(\"Punteggio Juventus:\", classifica_serieA[\"Juventus\"])"
   ]
  },
  {
   "cell_type": "code",
   "execution_count": 30,
   "metadata": {},
   "outputs": [
    {
     "data": {
      "text/plain": [
       "{'Inter': '41', 'Juventus': '37', 'Milan': '32'}"
      ]
     },
     "execution_count": 30,
     "metadata": {},
     "output_type": "execute_result"
    }
   ],
   "source": [
    "# costruisco una funzione a 3 parametri: dizionario, squadra, punteggio. diz[squadra]= punteggio\n",
    "\n",
    "classifica_serieA={}\n",
    "\n",
    "def creaClassifica (dict_input, squadra, punteggio):\n",
    "    dict_input[squadra]=punteggio\n",
    "    return dict_input\n",
    "\n",
    "for i in range(3):\n",
    "    squadra=input(\"Inserisci una squadra\")\n",
    "    punteggio = input(f\"Inserisci il punteggio della squadra {squadra}: \")\n",
    "    classifica_serieA= creaClassifica(classifica_serieA, squadra, punteggio)\n",
    "    \n",
    "classifica_serieA"
   ]
  },
  {
   "cell_type": "code",
   "execution_count": 10,
   "metadata": {},
   "outputs": [
    {
     "name": "stdout",
     "output_type": "stream",
     "text": [
      "pippo ha 5 lettere\n",
      "pluto ha 5 lettere\n",
      "paperino ha 8 lettere\n"
     ]
    }
   ],
   "source": [
    "list_names = [\"pippo\", \"pluto\", \"paperino\"]\n",
    "\n",
    "# costruire una funzione che mi dice: il nome selezionato ha x lettere\n",
    "# esempio: pippo ha 5 lettere\n",
    "\n",
    "for name in list_names:\n",
    "    print(name, \"ha\", len(name), \"lettere\")"
   ]
  },
  {
   "cell_type": "code",
   "execution_count": 13,
   "metadata": {},
   "outputs": [
    {
     "name": "stdout",
     "output_type": "stream",
     "text": [
      "pippo ha 5 lettere.\n",
      "pluto ha 5 lettere.\n",
      "paperino ha 8 lettere.\n",
      "['pippo', 'pluto', 'paperino']\n"
     ]
    }
   ],
   "source": [
    "# step di generalizzazione\n",
    "\n",
    "def contalettere(list_name_imput, lista_index):\n",
    "    string_evaluation= f\"{list_name_imput[lista_index]} ha {len(list_name_imput[lista_index])} lettere.\"\n",
    "    return string_evaluation\n",
    "list_names= [\"pippo\", \"pluto\", \"paperino\"]\n",
    "\n",
    "for i in range(len(list_names)):\n",
    "    print(contalettere(list_names,i))"
   ]
  },
  {
   "cell_type": "code",
   "execution_count": 15,
   "metadata": {},
   "outputs": [
    {
     "name": "stdout",
     "output_type": "stream",
     "text": [
      "['pippo', 'pluto', 'paperino', 'Topolino', 'topolino']\n"
     ]
    }
   ],
   "source": [
    "def inseriscinome(list_name_imput, new_name):\n",
    "    list_name_imput.append(new_name)\n",
    "    return\n",
    "\n",
    "inseriscinome(list_names, \"topolino\")\n",
    "\n",
    "print(list_names)"
   ]
  },
  {
   "cell_type": "code",
   "execution_count": 21,
   "metadata": {},
   "outputs": [
    {
     "data": {
      "image/png": "[encoded data removed]",
      "text/plain": [
       "<Figure size 800x600 with 1 Axes>"
      ]
     },
     "metadata": {},
     "output_type": "display_data"
    }
   ],
   "source": [
    "# grafico a barre in cui asse x = nomi, asse y = numero di lettere\n",
    "\n",
    "import matplotlib.pyplot as plt\n",
    "\n",
    "list_names = ['pippo', 'pluto', 'paperino']\n",
    "lunghezze = [len(nome) for nome in list_names]\n",
    "\n",
    "plt.figure(figsize=(8, 6))\n",
    "plt.bar(list_names, lunghezze, color='skyblue')\n",
    "plt.xlabel('Nomi')\n",
    "plt.ylabel('Numero di lettere')\n",
    "plt.title('Numero di lettere nei nomi')\n",
    "plt.show()"
   ]
  },
  {
   "cell_type": "code",
   "execution_count": null,
   "metadata": {},
   "outputs": [],
   "source": [
    "# how many palindrom days there have been?\n",
    "# 22/02/2022\n",
    "# 1. Define functions to convert any day in a DD/MM/YYYY format\n",
    " \n",
    "# 2. generate a date range\n",
    " \n",
    "# 3. Verify if the date is palindrome\n",
    " \n",
    "# 4. Format a nice output!"
   ]
  },
  {
   "cell_type": "markdown",
   "metadata": {},
   "source": [
    "## Connessione a sql server"
   ]
  },
  {
   "cell_type": "code",
   "execution_count": 35,
   "metadata": {},
   "outputs": [
    {
     "name": "stdout",
     "output_type": "stream",
     "text": [
      "Collecting pyodbc\n",
      "  Obtaining dependency information for pyodbc from https://files.pythonhosted.org/packages/c3/ef/2d24457682b4b239748f1d25c8a88b88ba99214fd78bedde54ff6186422c/pyodbc-5.0.1-cp312-cp312-win_amd64.whl.metadata\n",
      "  Downloading pyodbc-5.0.1-cp312-cp312-win_amd64.whl.metadata (2.8 kB)\n",
      "Downloading pyodbc-5.0.1-cp312-cp312-win_amd64.whl (69 kB)\n",
      "   ---------------------------------------- 0.0/69.2 kB ? eta -:--:--\n",
      "   ----- ---------------------------------- 10.2/69.2 kB ? eta -:--:--\n",
      "   ---------------------------------------- 69.2/69.2 kB 756.5 kB/s eta 0:00:00\n",
      "Installing collected packages: pyodbc\n",
      "Successfully installed pyodbc-5.0.1\n",
      "Note: you may need to restart the kernel to use updated packages.\n"
     ]
    },
    {
     "name": "stderr",
     "output_type": "stream",
     "text": [
      "\n",
      "[notice] A new release of pip is available: 23.2.1 -> 23.3.2\n",
      "[notice] To update, run: python.exe -m pip install --upgrade pip\n"
     ]
    }
   ],
   "source": [
    "%pip install pyodbc"
   ]
  },
  {
   "cell_type": "code",
   "execution_count": 42,
   "metadata": {},
   "outputs": [
    {
     "name": "stdout",
     "output_type": "stream",
     "text": [
      "['SQL Server', 'SQL Server Native Client RDA 11.0', 'ODBC Driver 17 for SQL Server', 'Microsoft Access Driver (*.mdb, *.accdb)', 'Microsoft Excel Driver (*.xls, *.xlsx, *.xlsm, *.xlsb)', 'Microsoft Access Text Driver (*.txt, *.csv)']\n"
     ]
    }
   ],
   "source": [
    "import pyodbc\n",
    "# py OBDC: open database connection\n",
    "print(pyodbc.drivers())\n",
    "driver =  'ODBC Driver 17 for SQL Server'"
   ]
  },
  {
   "cell_type": "code",
   "execution_count": 46,
   "metadata": {},
   "outputs": [
    {
     "name": "stdout",
     "output_type": "stream",
     "text": [
      "DRIVER=ODBC Driver 17 for SQL Server;SERVER=localhost;DATABASE=Test_C001;Trusted_Connection=yes\n"
     ]
    }
   ],
   "source": [
    "# la prima connessione al bastabase sql server\n",
    "driver = 'ODBC Driver 17 for SQL Server'\n",
    "server = 'localhost'\n",
    "database= 'Test_C001'\n",
    "conn_string =  f\"DRIVER={driver};SERVER={server};DATABASE={database};Trusted_Connection=yes\"\n",
    "\n",
    "print(conn_string)"
   ]
  },
  {
   "cell_type": "code",
   "execution_count": 48,
   "metadata": {},
   "outputs": [
    {
     "data": {
      "text/plain": [
       "<pyodbc.Connection at 0x21eae0ce800>"
      ]
     },
     "execution_count": 48,
     "metadata": {},
     "output_type": "execute_result"
    }
   ],
   "source": [
    "cnxn = pyodbc.connect(conn_string)"
   ]
  },
  {
   "cell_type": "markdown",
   "metadata": {},
   "source": [
    "## creazione tabella"
   ]
  },
  {
   "cell_type": "code",
   "execution_count": 51,
   "metadata": {},
   "outputs": [
    {
     "data": {
      "text/plain": [
       "<pyodbc.Cursor at 0x21e9b4abeb0>"
      ]
     },
     "execution_count": 51,
     "metadata": {},
     "output_type": "execute_result"
    }
   ],
   "source": [
    "cursor = cnxn.cursor()\n",
    " \n",
    "query = 'create table dbo.colori(id int identity(1,1), colore varchar(25))'\n",
    "result = cursor.execute(query)\n",
    "result"
   ]
  },
  {
   "cell_type": "code",
   "execution_count": 52,
   "metadata": {},
   "outputs": [],
   "source": [
    "result.commit()"
   ]
  },
  {
   "cell_type": "markdown",
   "metadata": {},
   "source": [
    "## inserimento record"
   ]
  },
  {
   "cell_type": "code",
   "execution_count": 57,
   "metadata": {},
   "outputs": [],
   "source": [
    "query = \" insert into dbo.colori values('rosso'), ('bianco'), ('verde')\"\n",
    "\n",
    "cursor.execute(query)\n",
    "cursor.commit()"
   ]
  },
  {
   "cell_type": "markdown",
   "metadata": {},
   "source": [
    "## lettura di record"
   ]
  },
  {
   "cell_type": "code",
   "execution_count": 64,
   "metadata": {},
   "outputs": [],
   "source": [
    "query = \"SELECT [id],[colore] FROM [dbo].[colori]\"\n",
    "table= []\n",
    "tabella = cursor.execute(query)\n",
    "for row in cursor:\n",
    "    table.append(row)"
   ]
  },
  {
   "cell_type": "code",
   "execution_count": 65,
   "metadata": {},
   "outputs": [],
   "source": [
    "# il cursore è oneshot: nel momento in cui apro il contenuto di un riga viene eliminata dal cursore\n",
    "for row in cursor:\n",
    "    print(row)"
   ]
  },
  {
   "cell_type": "code",
   "execution_count": 66,
   "metadata": {},
   "outputs": [
    {
     "data": {
      "text/plain": [
       "[(1, 'rosso'), (2, 'bianco'), (3, 'verde')]"
      ]
     },
     "execution_count": 66,
     "metadata": {},
     "output_type": "execute_result"
    }
   ],
   "source": [
    "table"
   ]
  },
  {
   "cell_type": "code",
   "execution_count": 67,
   "metadata": {},
   "outputs": [],
   "source": [
    "query = \"SELECT [id],[colore] FROM [dbo].[colori]\"\n",
    "table = []\n",
    "cursor.execute(query)\n",
    "table= cursor.fetchall()"
   ]
  },
  {
   "cell_type": "code",
   "execution_count": 68,
   "metadata": {},
   "outputs": [
    {
     "data": {
      "text/plain": [
       "[(1, 'rosso'), (2, 'bianco'), (3, 'verde')]"
      ]
     },
     "execution_count": 68,
     "metadata": {},
     "output_type": "execute_result"
    }
   ],
   "source": [
    "table"
   ]
  },
  {
   "cell_type": "markdown",
   "metadata": {},
   "source": [
    "### Creazione classifica serie A"
   ]
  },
  {
   "cell_type": "code",
   "execution_count": 70,
   "metadata": {},
   "outputs": [],
   "source": [
    "import json"
   ]
  },
  {
   "cell_type": "code",
   "execution_count": 74,
   "metadata": {},
   "outputs": [
    {
     "ename": "ProgrammingError",
     "evalue": "('42000', \"[42000] [Microsoft][ODBC Driver 17 for SQL Server][SQL Server]Could not find stored procedure 'dbo.jsonInput'. (2812) (SQLExecDirectW)\")",
     "output_type": "error",
     "traceback": [
      "\u001b[1;31m---------------------------------------------------------------------------\u001b[0m",
      "\u001b[1;31mProgrammingError\u001b[0m                          Traceback (most recent call last)",
      "Cell \u001b[1;32mIn[74], line 8\u001b[0m\n\u001b[0;32m      6\u001b[0m classifica_serieA_JSON \u001b[38;5;241m=\u001b[39m json\u001b[38;5;241m.\u001b[39mdumps(classifica_serieA)\n\u001b[0;32m      7\u001b[0m query \u001b[38;5;241m=\u001b[39m \u001b[38;5;124mf\u001b[39m\u001b[38;5;124m\"\u001b[39m\u001b[38;5;124mexec dbo.jsonInput \u001b[39m\u001b[38;5;124m'\u001b[39m\u001b[38;5;132;01m{\u001b[39;00mclassifica_serieA_JSON\u001b[38;5;132;01m}\u001b[39;00m\u001b[38;5;124m'\u001b[39m\u001b[38;5;124m\"\u001b[39m\n\u001b[1;32m----> 8\u001b[0m \u001b[43mcursor\u001b[49m\u001b[38;5;241;43m.\u001b[39;49m\u001b[43mexecute\u001b[49m\u001b[43m(\u001b[49m\u001b[43mquery\u001b[49m\u001b[43m)\u001b[49m\n\u001b[0;32m      9\u001b[0m cursor\u001b[38;5;241m.\u001b[39mcommit()\n\u001b[0;32m     10\u001b[0m cursor\u001b[38;5;241m.\u001b[39mexecute(\u001b[38;5;124m\"\u001b[39m\u001b[38;5;124mSelect * from dbo.ClassificaSerieA\u001b[39m\u001b[38;5;124m\"\u001b[39m)\n",
      "\u001b[1;31mProgrammingError\u001b[0m: ('42000', \"[42000] [Microsoft][ODBC Driver 17 for SQL Server][SQL Server]Could not find stored procedure 'dbo.jsonInput'. (2812) (SQLExecDirectW)\")"
     ]
    }
   ],
   "source": [
    "classifica_serieA = {'Inter': 41, 'Juventus': 37, 'Milan': 32, 'Bologna': 28, 'Fiorentina': 27,\n",
    "                    'Napoli': 27, 'Atalanta': 26, 'Roma': 25, \n",
    "                    'Torino': 23, 'Monza': 21, 'Lazio': 21, 'Lecce': 20,\n",
    "                    'Frosinone': 19, 'Genoa': 16, 'Sassuolo': 16, 'Cagliari': 13, \n",
    "                    'Udinese': 13, 'Empoli': 12, 'Hellas Verona': 11, 'Salernitana': 8}\n",
    "classifica_serieA_JSON = json.dumps(classifica_serieA)\n",
    "query = f\"exec dbo.jsonInput '{classifica_serieA_JSON}'\"\n",
    "cursor.execute(query)\n",
    "cursor.commit()\n",
    "cursor.execute(\"Select * from dbo.ClassificaSerieA\")\n",
    "print(cursor.fetchall())"
   ]
  },
  {
   "cell_type": "code",
   "execution_count": null,
   "metadata": {},
   "outputs": [],
   "source": []
  }
 ],
 "metadata": {
  "kernelspec": {
   "display_name": "Python 3",
   "language": "python",
   "name": "python3"
  },
  "language_info": {
   "codemirror_mode": {
    "name": "ipython",
    "version": 3
   },
   "file_extension": ".py",
   "mimetype": "text/x-python",
   "name": "python",
   "nbconvert_exporter": "python",
   "pygments_lexer": "ipython3",
   "version": "3.12.0"
  }
 },
 "nbformat": 4,
 "nbformat_minor": 2
}
